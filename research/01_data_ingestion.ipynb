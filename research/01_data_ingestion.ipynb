{
 "cells": [
  {
   "cell_type": "code",
   "execution_count": 1,
   "metadata": {},
   "outputs": [
    {
     "data": {
      "text/plain": [
       "'d:\\\\SL\\\\End to End Projects\\\\New folder\\\\research'"
      ]
     },
     "execution_count": 1,
     "metadata": {},
     "output_type": "execute_result"
    }
   ],
   "source": [
    "%pwd"
   ]
  },
  {
   "cell_type": "code",
   "execution_count": 2,
   "metadata": {},
   "outputs": [],
   "source": [
    "import os\n",
    "\n",
    "os.chdir(\"../\")"
   ]
  },
  {
   "cell_type": "code",
   "execution_count": 3,
   "metadata": {},
   "outputs": [],
   "source": [
    "from dataclasses import dataclass\n",
    "from pathlib import Path\n",
    "\n",
    "@dataclass(frozen=True)\n",
    "class DataIngestionConfig:\n",
    "    root_dirs: Path\n",
    "    source_url: str\n",
    "    local_data_file: Path\n",
    "    unzip_dir: Path"
   ]
  },
  {
   "cell_type": "code",
   "execution_count": 4,
   "metadata": {},
   "outputs": [],
   "source": [
    "from mlproject.constants import *\n",
    "from mlproject.utils.common import read_yaml, create_directories"
   ]
  },
  {
   "cell_type": "code",
   "execution_count": 5,
   "metadata": {},
   "outputs": [],
   "source": [
    "class ConfigurationManager:\n",
    "    def __init__(\n",
    "        self,\n",
    "        config_filepath = CONFIG_FILE_PATH,\n",
    "        params_filepath = PARAMS_FILE_PATH,\n",
    "        schema_filepath = SCHEMA_FILE_PATH\n",
    "    ):\n",
    "         self.config = read_yaml(config_filepath)\n",
    "         self.params = read_yaml(params_filepath)\n",
    "         self.schema = read_yaml(schema_filepath)\n",
    "         \n",
    "         create_directories([self.config.artifacts_root])\n",
    "    \n",
    "    def data_ingestion_config(self) -> DataIngestionConfig:\n",
    "        config = self.config.data_ingestion\n",
    "        \n",
    "        create_directories([config.root_dirs])\n",
    "        \n",
    "        data_ingestion_config = DataIngestionConfig(\n",
    "            root_dirs = config.root_dirs,\n",
    "            source_url = config.source_url,\n",
    "            local_data_file = config.local_data_file,\n",
    "            unzip_dir = config.unzip_dir\n",
    "        )\n",
    "        \n",
    "        return data_ingestion_config"
   ]
  },
  {
   "cell_type": "code",
   "execution_count": 6,
   "metadata": {},
   "outputs": [],
   "source": [
    "import os\n",
    "import requests\n",
    "import zipfile\n",
    "from mlproject import logger\n",
    "from mlproject.utils.common import get_size"
   ]
  },
  {
   "cell_type": "code",
   "execution_count": 7,
   "metadata": {},
   "outputs": [],
   "source": [
    "class DataIngestion:\n",
    "    def __init__(self, config: DataIngestionConfig):\n",
    "        self.config = config\n",
    "        \n",
    "    def download_file(self):\n",
    "        \"\"\"Download the file from source_url if it does not exist locally.\"\"\"\n",
    "        if not os.path.exists(self.config.local_data_file):\n",
    "            print(self.config.local_data_file)\n",
    "            print(self.config.source_url)\n",
    "            response = requests.get(self.config.source_url, stream=True)\n",
    "            if response.status_code == 200:\n",
    "                with open(self.config.local_data_file, 'wb') as f:\n",
    "                    f.write(response.content)\n",
    "                print(f\"{self.config.local_data_file} downloaded!\")\n",
    "            else:\n",
    "                print(f\"Failed to download file, status code: {response.status_code}\")\n",
    "        else:\n",
    "            print(f\"File already exists of size: {get_size(self.config.local_data_file)}\")\n",
    "    \n",
    "    \n",
    "    def extract_zip_file(self):\n",
    "        \"\"\"\n",
    "        Extracts a ZIP file to the specified directory.\n",
    "\n",
    "        Parameters:\n",
    "        zip_file_path (str): The path to the ZIP file.\n",
    "        extract_to_dir (str): The directory to extract the files to.\n",
    "\n",
    "        Returns:\n",
    "        None\n",
    "        \"\"\"\n",
    "        zip_file_path = self.config.local_data_file\n",
    "        extract_to_dir = self.config.unzip_dir\n",
    "        # Check if the ZIP file exists\n",
    "        print(\"zip file path:\",zip_file_path)\n",
    "        if not os.path.isfile(zip_file_path):\n",
    "            raise FileNotFoundError(f\"The file {zip_file_path} does not exist.\")\n",
    "        \n",
    "        # Check if the extraction directory exists, if not, create it\n",
    "        if not os.path.exists(extract_to_dir):\n",
    "            os.makedirs(extract_to_dir)\n",
    "        \n",
    "        # Extract the ZIP file\n",
    "        with zipfile.ZipFile(zip_file_path, 'r') as zip_ref:\n",
    "            zip_ref.extractall(extract_to_dir)\n",
    "\n",
    "        print(f\"Files extracted to {extract_to_dir}\")"
   ]
  },
  {
   "cell_type": "code",
   "execution_count": 8,
   "metadata": {},
   "outputs": [
    {
     "name": "stdout",
     "output_type": "stream",
     "text": [
      "[2024-07-27 22:42:12,552]: yaml file: config\\config.yaml loaded successfully:\n",
      "[2024-07-27 22:42:12,554]: yaml file: params.yaml loaded successfully:\n",
      "[2024-07-27 22:42:12,555]: yaml file: schema.yaml loaded successfully:\n",
      "Directory 'artifacts' created successfully or already exists.\n",
      "[2024-07-27 22:42:12,556]: Created directory at: artifacts:\n",
      "Directory 'artifacts/data_ingestion' created successfully or already exists.\n",
      "[2024-07-27 22:42:12,556]: Created directory at: artifacts/data_ingestion:\n",
      "artifacts/data_ingestion/monthly_milk_production.zip\n",
      "https://github.com/sumairrasi/data/raw/main/monthly_milk_production.zip\n",
      "artifacts/data_ingestion/monthly_milk_production.zip downloaded!\n",
      "zip file path: artifacts/data_ingestion/monthly_milk_production.zip\n",
      "Files extracted to artifacts/data_ingestion\n"
     ]
    }
   ],
   "source": [
    "try:\n",
    "    config = ConfigurationManager()\n",
    "    data_ingestion_config = config.data_ingestion_config()\n",
    "    data_ingestion = DataIngestion(config=data_ingestion_config)\n",
    "    data_ingestion.download_file()\n",
    "    data_ingestion.extract_zip_file()\n",
    "except Exception as e:\n",
    "    raise e\n"
   ]
  },
  {
   "cell_type": "code",
   "execution_count": null,
   "metadata": {},
   "outputs": [],
   "source": [
    "import os\n",
    "import requests\n",
    "\n",
    "local_data_file = 'artifacts/data_ingestion/monthly_milk_production.zip'\n",
    "source_url = 'https://github.com/sumairrasi/data/raw/main/monthly_milk_production.zip'\n",
    "\n",
    "def get_size(file_path: str) -> int:\n",
    "    \"\"\"Return the size of the file located at file_path.\"\"\"\n",
    "    return os.path.getsize(file_path)\n",
    "\n",
    "def download_file():\n",
    "    \"\"\"Download the file from source_url if it does not exist locally.\"\"\"\n",
    "    if not os.path.exists(local_data_file):\n",
    "        response = requests.get(source_url, stream=True)\n",
    "        if response.status_code == 200:\n",
    "            with open(local_data_file, 'wb') as f:\n",
    "                f.write(response.content)\n",
    "            print(f\"{local_data_file} downloaded!\")\n",
    "        else:\n",
    "            print(f\"Failed to download file, status code: {response.status_code}\")\n",
    "    else:\n",
    "        print(f\"File already exists of size: {get_size(local_data_file)}\")\n",
    "\n",
    "download_file()\n"
   ]
  }
 ],
 "metadata": {
  "kernelspec": {
   "display_name": "Python 3",
   "language": "python",
   "name": "python3"
  },
  "language_info": {
   "codemirror_mode": {
    "name": "ipython",
    "version": 3
   },
   "file_extension": ".py",
   "mimetype": "text/x-python",
   "name": "python",
   "nbconvert_exporter": "python",
   "pygments_lexer": "ipython3",
   "version": "3.11.7"
  }
 },
 "nbformat": 4,
 "nbformat_minor": 2
}

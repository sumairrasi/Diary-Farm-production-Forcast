{
 "cells": [
  {
   "cell_type": "code",
   "execution_count": 1,
   "metadata": {},
   "outputs": [],
   "source": [
    "import os"
   ]
  },
  {
   "cell_type": "code",
   "execution_count": 2,
   "metadata": {},
   "outputs": [
    {
     "data": {
      "text/plain": [
       "'d:\\\\SL\\\\End to End Projects\\\\New folder\\\\research'"
      ]
     },
     "execution_count": 2,
     "metadata": {},
     "output_type": "execute_result"
    }
   ],
   "source": [
    "%pwd"
   ]
  },
  {
   "cell_type": "code",
   "execution_count": 3,
   "metadata": {},
   "outputs": [],
   "source": [
    "import os\n",
    "\n",
    "os.chdir(\"../\")"
   ]
  },
  {
   "cell_type": "code",
   "execution_count": 6,
   "metadata": {},
   "outputs": [],
   "source": [
    "from dataclasses import dataclass\n",
    "from pathlib import Path\n",
    "\n",
    "@dataclass(frozen=True)\n",
    "class DataTransformationConfig:\n",
    "    root_dirs: Path\n",
    "    data_path: Path"
   ]
  },
  {
   "cell_type": "code",
   "execution_count": 7,
   "metadata": {},
   "outputs": [],
   "source": [
    "from mlproject.constants import *\n",
    "from mlproject.utils.common import read_yaml, create_directories"
   ]
  },
  {
   "cell_type": "code",
   "execution_count": 11,
   "metadata": {},
   "outputs": [],
   "source": [
    "class ConfigurationManager:\n",
    "    def __init__(\n",
    "        self,\n",
    "        config_filepath = CONFIG_FILE_PATH,\n",
    "        params_filepath = PARAMS_FILE_PATH,\n",
    "        schema_filepath = SCHEMA_FILE_PATH\n",
    "    ):\n",
    "         self.config = read_yaml(config_filepath)\n",
    "         self.params = read_yaml(params_filepath)\n",
    "         self.schema = read_yaml(schema_filepath)\n",
    "         print(self.schema)\n",
    "         create_directories([self.config.artifacts_root])\n",
    "    \n",
    "    def data_transformation_config(self) -> DataTransformationConfig:\n",
    "        config = self.config.data_transformation\n",
    "        \n",
    "        create_directories([config.root_dirs])\n",
    "        \n",
    "        data_transformation_config = DataTransformationConfig(\n",
    "            root_dirs=config.root_dirs,\n",
    "            data_path=config.data_path\n",
    "            \n",
    "        )\n",
    "        \n",
    "        return data_transformation_config"
   ]
  },
  {
   "cell_type": "code",
   "execution_count": 12,
   "metadata": {},
   "outputs": [],
   "source": [
    "import pandas as pd\n",
    "from mlproject import logger\n",
    "import os"
   ]
  },
  {
   "cell_type": "code",
   "execution_count": 13,
   "metadata": {},
   "outputs": [],
   "source": [
    "class DataTransformation:\n",
    "    def __init__(self,config: DataTransformationConfig):\n",
    "        self.config = config\n",
    "        \n",
    "        \n",
    "    def train_test_split(self):\n",
    "        df = pd.read_csv(self.config.data_path, parse_dates = ['Date'], index_col = 'Date')\n",
    "        train = df[:int(0.85*(len(df)))]\n",
    "        test = df[int(0.85*(len(df))):]\n",
    "        \n",
    "        train.to_csv(os.path.join(self.config.root_dirs,\"train.csv\"),index=False)\n",
    "        test.to_csv(os.path.join(self.config.root_dirs,\"test.csv\"),index=False)\n",
    "        \n",
    "        logger.info(\"Splitted data into training and testing sets\")\n",
    "        logger.info(train.shape)\n",
    "        logger.info(test.shape)\n",
    "        \n",
    "        print(train.shape)\n",
    "        print(test.shape)"
   ]
  },
  {
   "cell_type": "code",
   "execution_count": 14,
   "metadata": {},
   "outputs": [
    {
     "name": "stdout",
     "output_type": "stream",
     "text": [
      "[2024-07-31 22:54:34,724]: yaml file: config\\config.yaml loaded successfully:\n",
      "[2024-07-31 22:54:34,736]: yaml file: params.yaml loaded successfully:\n",
      "[2024-07-31 22:54:34,748]: yaml file: schema.yaml loaded successfully:\n",
      "{'COLUMNS': {'Date': 'object', 'Production': 'int64'}, 'TARGET_COLUMN': {'Production': 'int64'}}\n",
      "Directory 'artifacts' created successfully or already exists.\n",
      "[2024-07-31 22:54:34,751]: Created directory at: artifacts:\n",
      "Directory 'artifacts/data_transformation' created successfully or already exists.\n",
      "[2024-07-31 22:54:34,756]: Created directory at: artifacts/data_transformation:\n",
      "[2024-07-31 22:54:34,799]: Splitted data into training and testing sets:\n",
      "[2024-07-31 22:54:34,801]: (142, 1):\n",
      "[2024-07-31 22:54:34,802]: (26, 1):\n",
      "(142, 1)\n",
      "(26, 1)\n"
     ]
    }
   ],
   "source": [
    "try:\n",
    "    config = ConfigurationManager()\n",
    "    data_transformation = config.data_transformation_config()\n",
    "    data_transformation = DataTransformation(config=data_transformation)\n",
    "    data_transformation.train_test_split()\n",
    "except Exception as e:\n",
    "    raise e"
   ]
  }
 ],
 "metadata": {
  "kernelspec": {
   "display_name": "Python 3",
   "language": "python",
   "name": "python3"
  },
  "language_info": {
   "codemirror_mode": {
    "name": "ipython",
    "version": 3
   },
   "file_extension": ".py",
   "mimetype": "text/x-python",
   "name": "python",
   "nbconvert_exporter": "python",
   "pygments_lexer": "ipython3",
   "version": "3.11.7"
  }
 },
 "nbformat": 4,
 "nbformat_minor": 2
}

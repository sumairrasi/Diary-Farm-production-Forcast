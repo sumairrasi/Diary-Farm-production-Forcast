{
 "cells": [
  {
   "cell_type": "code",
   "execution_count": null,
   "metadata": {},
   "outputs": [],
   "source": [
    "import os"
   ]
  },
  {
   "cell_type": "code",
   "execution_count": null,
   "metadata": {},
   "outputs": [],
   "source": [
    "%pwd"
   ]
  },
  {
   "cell_type": "code",
   "execution_count": null,
   "metadata": {},
   "outputs": [],
   "source": [
    "import os\n",
    "\n",
    "os.chdir(\"../\")"
   ]
  },
  {
   "cell_type": "code",
   "execution_count": null,
   "metadata": {},
   "outputs": [],
   "source": [
    "from dataclasses import dataclass\n",
    "from pathlib import Path\n",
    "\n",
    "@dataclass(frozen=True)\n",
    "class ModelTrainerConfig:\n",
    "    root_dirs: Path\n",
    "    train_data_path: Path\n",
    "    test_data_path: Path\n",
    "    model_name: str\n",
    "    order_p: int\n",
    "    order_d: int\n",
    "    order_q: int\n",
    "    seasonal_order_p: int\n",
    "    seasonal_order_d: int\n",
    "    seasonal_order_q: int\n",
    "    seasonal_order_s: int\n",
    "    target_column: str\n",
    "    index_column: str"
   ]
  },
  {
   "cell_type": "code",
   "execution_count": null,
   "metadata": {},
   "outputs": [],
   "source": [
    "from mlproject.constants import *\n",
    "from mlproject.utils.common import read_yaml, create_directories"
   ]
  },
  {
   "cell_type": "code",
   "execution_count": null,
   "metadata": {},
   "outputs": [],
   "source": [
    "class ConfigurationManager:\n",
    "    def __init__(\n",
    "        self,\n",
    "        config_filepath = CONFIG_FILE_PATH,\n",
    "        params_filepath = PARAMS_FILE_PATH,\n",
    "        schema_filepath = SCHEMA_FILE_PATH\n",
    "    ):\n",
    "         self.config = read_yaml(config_filepath)\n",
    "         self.params = read_yaml(params_filepath)\n",
    "         self.schema = read_yaml(schema_filepath)\n",
    "         print(self.schema)\n",
    "         create_directories([self.config.artifacts_root])\n",
    "    \n",
    "    def model_trainer_config(self):\n",
    "        config = self.config.model_trainer\n",
    "        params = self.params.SARIMAX\n",
    "        schema_target = self.schema.TARGET_COLUMN\n",
    "        schema_index = self.schema.INDEX_COLUMN\n",
    "        \n",
    "        create_directories([config.root_dirs])\n",
    "        \n",
    "        model_trainer_config = ModelTrainerConfig(\n",
    "            root_dirs = config.root_dirs,\n",
    "            train_data_path = config.train_data_path,\n",
    "            test_data_path = config.test_data_path,\n",
    "            model_name = config.model_name,\n",
    "            order_p= params.order_p,\n",
    "            order_d = params.order_d,\n",
    "            order_q = params.order_q,\n",
    "            seasonal_order_p = params.seasonal_order_p,\n",
    "            seasonal_order_d = params.seasonal_order_d,\n",
    "            seasonal_order_q = params.seasonal_order_q,\n",
    "            seasonal_order_s = params.seasonal_order_s,\n",
    "            target_column = schema_target.name,\n",
    "            index_column= schema_index.name\n",
    "        )\n",
    "        return model_trainer_config"
   ]
  },
  {
   "cell_type": "code",
   "execution_count": null,
   "metadata": {},
   "outputs": [],
   "source": [
    "import pandas as pd\n",
    "import os\n",
    "from mlproject import logger\n",
    "from statsmodels.tsa.statespace.sarimax import SARIMAX\n",
    "import joblib"
   ]
  },
  {
   "cell_type": "code",
   "execution_count": null,
   "metadata": {},
   "outputs": [],
   "source": [
    "class ModelTrainer:\n",
    "    def __init__(self,config:ModelTrainerConfig):\n",
    "        self.config = config\n",
    "        \n",
    "    def train(self):\n",
    "        print(\"index column :\",self.config.index_column)\n",
    "        print(\"target column :\",self.config.target_column)\n",
    "        train_data = pd.read_csv(self.config.train_data_path, parse_dates = [self.config.index_column], index_col = self.config.index_column)\n",
    "        test_data = pd.read_csv(self.config.test_data_path, parse_dates = [self.config.index_column], index_col = self.config.index_column)\n",
    "        model = SARIMAX(train_data[self.config.target_column],\n",
    "                order = (self.config.order_p,\n",
    "                         self.config.order_d,\n",
    "                         self.config.order_q),\n",
    "                seasonal_order = (self.config.seasonal_order_p,\n",
    "                                  self.config.seasonal_order_d,\n",
    "                                  self.config.seasonal_order_q,\n",
    "                                  self.config.seasonal_order_s))\n",
    "        results = model.fit(disp = False)\n",
    "        joblib.dump(results, os.path.join(self.config.root_dirs,self.config.model_name))"
   ]
  },
  {
   "cell_type": "code",
   "execution_count": null,
   "metadata": {},
   "outputs": [],
   "source": [
    "try:\n",
    "    config = ConfigurationManager()\n",
    "    model_trainer_config = config.model_trainer_config()\n",
    "    model_trainer_config = ModelTrainer(config=model_trainer_config)\n",
    "    model_trainer_config.train()\n",
    "except Exception as e:\n",
    "    raise e"
   ]
  },
  {
   "cell_type": "code",
   "execution_count": null,
   "metadata": {},
   "outputs": [],
   "source": []
  }
 ],
 "metadata": {
  "kernelspec": {
   "display_name": "Python 3",
   "language": "python",
   "name": "python3"
  },
  "language_info": {
   "codemirror_mode": {
    "name": "ipython",
    "version": 3
   },
   "file_extension": ".py",
   "mimetype": "text/x-python",
   "name": "python",
   "nbconvert_exporter": "python",
   "pygments_lexer": "ipython3",
   "version": "3.11.7"
  }
 },
 "nbformat": 4,
 "nbformat_minor": 2
}

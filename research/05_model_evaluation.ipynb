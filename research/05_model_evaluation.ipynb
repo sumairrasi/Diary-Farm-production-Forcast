{
 "cells": [
  {
   "cell_type": "code",
   "execution_count": 1,
   "metadata": {},
   "outputs": [],
   "source": [
    "import os"
   ]
  },
  {
   "cell_type": "code",
   "execution_count": 2,
   "metadata": {},
   "outputs": [
    {
     "data": {
      "text/plain": [
       "'d:\\\\SL\\\\End to End Projects\\\\Diary production Forcasting\\\\research'"
      ]
     },
     "execution_count": 2,
     "metadata": {},
     "output_type": "execute_result"
    }
   ],
   "source": [
    "%pwd"
   ]
  },
  {
   "cell_type": "code",
   "execution_count": 3,
   "metadata": {},
   "outputs": [],
   "source": [
    "import os\n",
    "\n",
    "os.chdir(\"../\")"
   ]
  },
  {
   "cell_type": "code",
   "execution_count": 4,
   "metadata": {},
   "outputs": [],
   "source": [
    "from dataclasses import dataclass\n",
    "from pathlib import Path\n",
    "\n",
    "@dataclass(frozen=True)\n",
    "class ModelEvaluationConfig:\n",
    "    root_dirs: Path\n",
    "    train_data_path: Path\n",
    "    test_data_path: Path\n",
    "    model_path: Path\n",
    "    all_params: dict\n",
    "    metric_file_name: Path\n",
    "    target_column: str\n",
    "    index_column: str\n",
    "    "
   ]
  },
  {
   "cell_type": "code",
   "execution_count": 5,
   "metadata": {},
   "outputs": [],
   "source": [
    "from mlproject.constants import *\n",
    "from mlproject.utils.common import read_yaml, create_directories,save_json"
   ]
  },
  {
   "cell_type": "code",
   "execution_count": 6,
   "metadata": {},
   "outputs": [],
   "source": [
    "class ConfigurationManager:\n",
    "    def __init__(\n",
    "        self,\n",
    "        config_filepath = CONFIG_FILE_PATH,\n",
    "        params_filepath = PARAMS_FILE_PATH,\n",
    "        schema_filepath = SCHEMA_FILE_PATH\n",
    "    ):\n",
    "         self.config = read_yaml(config_filepath)\n",
    "         self.params = read_yaml(params_filepath)\n",
    "         self.schema = read_yaml(schema_filepath)\n",
    "         print(self.schema)\n",
    "         create_directories([self.config.artifacts_root])\n",
    "\n",
    "    def model_evaluation_config(self) -> ModelEvaluationConfig:\n",
    "        config = self.config.model_evaluation\n",
    "        params = self.params.SARIMAX\n",
    "        schema_target = self.schema.TARGET_COLUMN\n",
    "        schema_index = self.schema.INDEX_COLUMN\n",
    "        \n",
    "        create_directories([config.root_dirs])\n",
    "        \n",
    "        model_evaluation_config = ModelEvaluationConfig(\n",
    "            root_dirs=config.root_dirs,\n",
    "            test_data_path = config.test_data_path,\n",
    "            train_data_path = config.train_data_path,\n",
    "            model_path= config.model_path,\n",
    "            all_params = params,\n",
    "            metric_file_name=config.metric_file_name,\n",
    "            target_column=schema_target.name,\n",
    "            index_column=schema_index.name\n",
    "        )\n",
    "        \n",
    "        return model_evaluation_config"
   ]
  },
  {
   "cell_type": "code",
   "execution_count": 7,
   "metadata": {},
   "outputs": [],
   "source": [
    "import joblib\n",
    "import os\n",
    "import pandas as pd\n",
    "import numpy as np\n",
    "from sklearn.metrics import mean_squared_error, r2_score, mean_absolute_error, median_absolute_error, mean_squared_log_error\n"
   ]
  },
  {
   "cell_type": "code",
   "execution_count": 8,
   "metadata": {},
   "outputs": [],
   "source": [
    "class ModelEvaluation:\n",
    "    def __init__(self, config: ModelEvaluationConfig):\n",
    "        self.config = config\n",
    "        \n",
    "    def eval_metrics(self,actual,predictions):\n",
    "        mae=mean_absolute_error(actual, predictions)\n",
    "        mse=mean_squared_error(actual, predictions)\n",
    "        mape = np.mean(np.abs(predictions - actual)/np.abs(actual))*100 \n",
    "        return mae, mse,mape\n",
    "    \n",
    "    def save_results(self):\n",
    "        train_data = pd.read_csv(self.config.train_data_path, parse_dates = [self.config.index_column], index_col = self.config.index_column)\n",
    "        test_data = pd.read_csv(self.config.test_data_path, parse_dates = [self.config.index_column], index_col = self.config.index_column)\n",
    "        model = joblib.load(self.config.model_path)\n",
    "        start = len(train_data)\n",
    "        end = len(train_data) + len(test_data) - 1\n",
    "        predictions = model.predict(start = start, end = end, dynamic = False, typ = 'levels').rename('SARIMA Test Predictions') \n",
    "        # print(mean_absolute_error(test_data[self.config.target_column], predictions))\n",
    "        mae, mse,mape = self.eval_metrics(test_data[self.config.target_column],predictions)\n",
    "        print(self.eval_metrics(test_data[self.config.target_column],predictions))\n",
    "        # saving metrics as local\n",
    "        scores = {\"MAE\":mae,\"MSE\":mse,\"MAPE\":mape}\n",
    "        save_json(path=Path(self.config.metric_file_name),data=scores)\n",
    "        \n",
    "    "
   ]
  },
  {
   "cell_type": "code",
   "execution_count": 9,
   "metadata": {},
   "outputs": [
    {
     "name": "stdout",
     "output_type": "stream",
     "text": [
      "[2024-08-02 23:32:42,460]: yaml file: config\\config.yaml loaded successfully:\n",
      "[2024-08-02 23:32:42,462]: yaml file: params.yaml loaded successfully:\n",
      "[2024-08-02 23:32:42,464]: yaml file: schema.yaml loaded successfully:\n",
      "{'COLUMNS': {'Date': 'object', 'Production': 'int64'}, 'INDEX_COLUMN': {'name': 'Date'}, 'TARGET_COLUMN': {'name': 'Production'}}\n",
      "Directory 'artifacts' created successfully or already exists.\n",
      "[2024-08-02 23:32:42,465]: Created directory at: artifacts:\n",
      "Directory 'artifacts/model_evalution' created successfully or already exists.\n",
      "[2024-08-02 23:32:42,466]: Created directory at: artifacts/model_evalution:\n",
      "(14.062888849228928, 274.94063634808697, 1.6499054345183708)\n",
      "[2024-08-02 23:32:42,562]: json file saved at: artifacts\\model_evalution\\metrics:\n"
     ]
    },
    {
     "name": "stderr",
     "output_type": "stream",
     "text": [
      "c:\\Users\\sumai\\AppData\\Local\\Programs\\Python\\Python311\\Lib\\site-packages\\statsmodels\\tsa\\statespace\\representation.py:374: FutureWarning: Unknown keyword arguments: dict_keys(['typ']).Passing unknown keyword arguments will raise a TypeError beginning in version 0.15.\n",
      "  warnings.warn(msg, FutureWarning)\n"
     ]
    }
   ],
   "source": [
    "try:\n",
    "    config = ConfigurationManager()\n",
    "    mode_evalution_config = config.model_evaluation_config()\n",
    "    mode_evalution_config = ModelEvaluation(config=mode_evalution_config)\n",
    "    mode_evalution_config.save_results()\n",
    "except Exception as e:\n",
    "    raise e;"
   ]
  }
 ],
 "metadata": {
  "kernelspec": {
   "display_name": "Python 3",
   "language": "python",
   "name": "python3"
  },
  "language_info": {
   "codemirror_mode": {
    "name": "ipython",
    "version": 3
   },
   "file_extension": ".py",
   "mimetype": "text/x-python",
   "name": "python",
   "nbconvert_exporter": "python",
   "pygments_lexer": "ipython3",
   "version": "3.11.7"
  }
 },
 "nbformat": 4,
 "nbformat_minor": 2
}
